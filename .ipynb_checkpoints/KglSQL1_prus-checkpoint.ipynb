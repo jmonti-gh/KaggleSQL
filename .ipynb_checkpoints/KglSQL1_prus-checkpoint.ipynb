{
 "cells": [
  {
   "attachments": {},
   "cell_type": "markdown",
   "metadata": {},
   "source": [
    "# Kaggle Intro to SQL (and BigQuery)\n",
    "- https://www.kaggle.com/learn/intro-to-sql"
   ]
  },
  {
   "attachments": {},
   "cell_type": "markdown",
   "metadata": {},
   "source": [
    "## Getting Started With SQL and BigQuery\n",
    "- Learn the workflow for handling big datasets with BigQuery and SQL"
   ]
  },
  {
   "cell_type": "code",
   "execution_count": 1,
   "metadata": {},
   "outputs": [],
   "source": [
    "from google.cloud import bigquery"
   ]
  },
  {
   "attachments": {},
   "cell_type": "markdown",
   "metadata": {},
   "source": [
    "https://cloud.google.com/docs/authentication/provide-credentials-adc#local-dev"
   ]
  },
  {
   "attachments": {},
   "cell_type": "markdown",
   "metadata": {},
   "source": [
    "C:\\Users\\jm\\AppData\\Local\\Google\\Cloud SDK>gcloud auth application-default login\n",
    "Your browser has been opened to visit:\n",
    "\n",
    "    https://accounts.google.com/o/oauth2/auth?response_type=code&client_id=764086051850-6qr4p6gpi6hn506pt8ejuq83di341hur.apps.googleusercontent.com&redirect_uri=http%3A%2F%2Flocalhost%3A8085%2F&scope=openid+https%3A%2F%2Fwww.googleapis.com%2Fauth%2Fuserinfo.email+https%3A%2F%2Fwww.googleapis.com%2Fauth%2Fcloud-platform+https%3A%2F%2Fwww.googleapis.com%2Fauth%2Fsqlservice.login+https%3A%2F%2Fwww.googleapis.com%2Fauth%2Faccounts.reauth&state=ajIOntCs5MVRm1Cv5K4mjDyJKzvwdr&access_type=offline&code_challenge=5F0px6oGP6ZiE8bqyYkM0u0j3wnahqexweyvCSmWn_4&code_challenge_method=S256\n",
    "\n",
    "\n",
    "Credentials saved to file: [C:\\Users\\jm\\AppData\\Roaming\\gcloud\\application_default_credentials.json]\n",
    "\n",
    "These credentials will be used by any library that requests Application Default Credentials (ADC).\n",
    "WARNING:\n",
    "Cannot find a quota project to add to ADC. You might receive a \"quota exceeded\" or \"API not enabled\" error. Run $ gcloud auth application-default set-quota-project to add a quota project."
   ]
  },
  {
   "cell_type": "code",
   "execution_count": 2,
   "metadata": {},
   "outputs": [
    {
     "name": "stderr",
     "output_type": "stream",
     "text": [
      "C:\\Users\\jm\\anaconda3\\envs\\KglSQL_1\\lib\\site-packages\\google\\auth\\_default.py:70: UserWarning: Your application has authenticated using end user credentials from Google Cloud SDK without a quota project. You might receive a \"quota exceeded\" or \"API not enabled\" error. We recommend you rerun `gcloud auth application-default login` and make sure a quota project is added. Or you can use service accounts instead. For more information about service accounts, see https://cloud.google.com/docs/authentication/\n",
      "  warnings.warn(_CLOUD_SDK_CREDENTIALS_WARNING)\n"
     ]
    }
   ],
   "source": [
    "# Create a 'Client' Object.\n",
    "client = bigquery.Client('jmproject')"
   ]
  },
  {
   "cell_type": "code",
   "execution_count": 3,
   "metadata": {},
   "outputs": [],
   "source": [
    "# Construct a reference to the \"hacker_news\" dataset\n",
    "dataset_ref = client.dataset(\"hacker_news\", project=\"bigquery-public-data\")\n",
    "# API request - fetch the dataset\n",
    "dataset = client.get_dataset(dataset_ref)"
   ]
  },
  {
   "cell_type": "markdown",
   "metadata": {},
   "source": [
    "Every dataset is just a collection of tables. You can think of a dataset as a spreadsheet file containing multiple tables, all composed of rows and columns.\r\n",
    "\r\n",
    "We use the list_tables() method to list the tables in the dataset."
   ]
  },
  {
   "cell_type": "code",
   "execution_count": 4,
   "metadata": {},
   "outputs": [
    {
     "name": "stdout",
     "output_type": "stream",
     "text": [
      "full\n"
     ]
    },
    {
     "data": {
      "text/plain": [
       "[<google.cloud.bigquery.table.TableListItem at 0x1aad2be3f40>]"
      ]
     },
     "execution_count": 4,
     "metadata": {},
     "output_type": "execute_result"
    }
   ],
   "source": [
    "# List all the tables in the \"hacker_news\" dataset\n",
    "tables = list(client.list_tables(dataset))\n",
    "\n",
    "# Print names of all tables in the dataset (there are four!)\n",
    "for table in tables:  \n",
    "    print(table.table_id)\n",
    "\n",
    "tables"
   ]
  },
  {
   "cell_type": "code",
   "execution_count": 5,
   "metadata": {},
   "outputs": [
    {
     "data": {
      "text/plain": [
       "Table(TableReference(DatasetReference('bigquery-public-data', 'hacker_news'), 'full'))"
      ]
     },
     "execution_count": 5,
     "metadata": {},
     "output_type": "execute_result"
    }
   ],
   "source": [
    "# Construct a reference to the \"full\" table\n",
    "table_ref = dataset_ref.table(\"full\")\n",
    "# API request - fetch the table\n",
    "table = client.get_table(table_ref)\n",
    "\n",
    "table"
   ]
  },
  {
   "cell_type": "markdown",
   "metadata": {},
   "source": [
    "## Table schema\r\n",
    "The structure of a table is called its schema. We need to understand a table's schema to effectively pull out the data we want.\r\n",
    "\r\n",
    "In this example, we'll investigate the full table that we fetched above."
   ]
  },
  {
   "cell_type": "code",
   "execution_count": 6,
   "metadata": {},
   "outputs": [
    {
     "data": {
      "text/plain": [
       "[SchemaField('title', 'STRING', 'NULLABLE', 'Story title', (), None),\n",
       " SchemaField('url', 'STRING', 'NULLABLE', 'Story url', (), None),\n",
       " SchemaField('text', 'STRING', 'NULLABLE', 'Story or comment text', (), None),\n",
       " SchemaField('dead', 'BOOLEAN', 'NULLABLE', 'Is dead?', (), None),\n",
       " SchemaField('by', 'STRING', 'NULLABLE', \"The username of the item's author.\", (), None),\n",
       " SchemaField('score', 'INTEGER', 'NULLABLE', 'Story score', (), None),\n",
       " SchemaField('time', 'INTEGER', 'NULLABLE', 'Unix time', (), None),\n",
       " SchemaField('timestamp', 'TIMESTAMP', 'NULLABLE', 'Timestamp for the unix time', (), None),\n",
       " SchemaField('type', 'STRING', 'NULLABLE', 'Type of details (comment, comment_ranking, poll, story, job, pollopt)', (), None),\n",
       " SchemaField('id', 'INTEGER', 'NULLABLE', \"The item's unique id.\", (), None),\n",
       " SchemaField('parent', 'INTEGER', 'NULLABLE', 'Parent comment ID', (), None),\n",
       " SchemaField('descendants', 'INTEGER', 'NULLABLE', 'Number of story or poll descendants', (), None),\n",
       " SchemaField('ranking', 'INTEGER', 'NULLABLE', 'Comment ranking', (), None),\n",
       " SchemaField('deleted', 'BOOLEAN', 'NULLABLE', 'Is deleted?', (), None)]"
      ]
     },
     "execution_count": 6,
     "metadata": {},
     "output_type": "execute_result"
    }
   ],
   "source": [
    "# Print information on all the columns in the \"full\" table in the \"hacker_news\" dataset\n",
    "table.schema"
   ]
  },
  {
   "cell_type": "code",
   "execution_count": 7,
   "metadata": {},
   "outputs": [
    {
     "name": "stderr",
     "output_type": "stream",
     "text": [
      "C:\\Users\\jm\\AppData\\Local\\Temp\\ipykernel_4036\\2662307764.py:1: UserWarning: Cannot use bqstorage_client if max_results is set, reverting to fetching data with the tabledata.list endpoint.\n",
      "  client.list_rows(table, max_results=5).to_dataframe()\n"
     ]
    },
    {
     "data": {
      "text/html": [
       "<div>\n",
       "<style scoped>\n",
       "    .dataframe tbody tr th:only-of-type {\n",
       "        vertical-align: middle;\n",
       "    }\n",
       "\n",
       "    .dataframe tbody tr th {\n",
       "        vertical-align: top;\n",
       "    }\n",
       "\n",
       "    .dataframe thead th {\n",
       "        text-align: right;\n",
       "    }\n",
       "</style>\n",
       "<table border=\"1\" class=\"dataframe\">\n",
       "  <thead>\n",
       "    <tr style=\"text-align: right;\">\n",
       "      <th></th>\n",
       "      <th>title</th>\n",
       "      <th>url</th>\n",
       "      <th>text</th>\n",
       "      <th>dead</th>\n",
       "      <th>by</th>\n",
       "      <th>score</th>\n",
       "      <th>time</th>\n",
       "      <th>timestamp</th>\n",
       "      <th>type</th>\n",
       "      <th>id</th>\n",
       "      <th>parent</th>\n",
       "      <th>descendants</th>\n",
       "      <th>ranking</th>\n",
       "      <th>deleted</th>\n",
       "    </tr>\n",
       "  </thead>\n",
       "  <tbody>\n",
       "    <tr>\n",
       "      <th>0</th>\n",
       "      <td>None</td>\n",
       "      <td>None</td>\n",
       "      <td>I would rather just have wired earbuds, period...</td>\n",
       "      <td>None</td>\n",
       "      <td>zeveb</td>\n",
       "      <td>NaN</td>\n",
       "      <td>1591717736</td>\n",
       "      <td>2020-06-09 15:48:56+00:00</td>\n",
       "      <td>comment</td>\n",
       "      <td>23467666</td>\n",
       "      <td>23456782</td>\n",
       "      <td>NaN</td>\n",
       "      <td>NaN</td>\n",
       "      <td>None</td>\n",
       "    </tr>\n",
       "    <tr>\n",
       "      <th>1</th>\n",
       "      <td>None</td>\n",
       "      <td>None</td>\n",
       "      <td>DNS?</td>\n",
       "      <td>None</td>\n",
       "      <td>nly</td>\n",
       "      <td>NaN</td>\n",
       "      <td>1572810465</td>\n",
       "      <td>2019-11-03 19:47:45+00:00</td>\n",
       "      <td>comment</td>\n",
       "      <td>21436112</td>\n",
       "      <td>21435130</td>\n",
       "      <td>NaN</td>\n",
       "      <td>NaN</td>\n",
       "      <td>None</td>\n",
       "    </tr>\n",
       "    <tr>\n",
       "      <th>2</th>\n",
       "      <td>None</td>\n",
       "      <td>None</td>\n",
       "      <td>These benchmarks seem pretty good.  Filterable...</td>\n",
       "      <td>None</td>\n",
       "      <td>mrkeen</td>\n",
       "      <td>NaN</td>\n",
       "      <td>1591717727</td>\n",
       "      <td>2020-06-09 15:48:47+00:00</td>\n",
       "      <td>comment</td>\n",
       "      <td>23467665</td>\n",
       "      <td>23467426</td>\n",
       "      <td>NaN</td>\n",
       "      <td>NaN</td>\n",
       "      <td>None</td>\n",
       "    </tr>\n",
       "    <tr>\n",
       "      <th>3</th>\n",
       "      <td>None</td>\n",
       "      <td>None</td>\n",
       "      <td>Oh really?&lt;p&gt;* Excel alone uses 86.1MB of priv...</td>\n",
       "      <td>None</td>\n",
       "      <td>oceanswave</td>\n",
       "      <td>NaN</td>\n",
       "      <td>1462987532</td>\n",
       "      <td>2016-05-11 17:25:32+00:00</td>\n",
       "      <td>comment</td>\n",
       "      <td>11677248</td>\n",
       "      <td>11676886</td>\n",
       "      <td>NaN</td>\n",
       "      <td>NaN</td>\n",
       "      <td>None</td>\n",
       "    </tr>\n",
       "    <tr>\n",
       "      <th>4</th>\n",
       "      <td>None</td>\n",
       "      <td>None</td>\n",
       "      <td>These systems are useless.  Of the many flaws:...</td>\n",
       "      <td>None</td>\n",
       "      <td>nyxxie</td>\n",
       "      <td>NaN</td>\n",
       "      <td>1572810473</td>\n",
       "      <td>2019-11-03 19:47:53+00:00</td>\n",
       "      <td>comment</td>\n",
       "      <td>21436113</td>\n",
       "      <td>21435025</td>\n",
       "      <td>NaN</td>\n",
       "      <td>NaN</td>\n",
       "      <td>None</td>\n",
       "    </tr>\n",
       "  </tbody>\n",
       "</table>\n",
       "</div>"
      ],
      "text/plain": [
       "  title   url                                               text  dead  \\\n",
       "0  None  None  I would rather just have wired earbuds, period...  None   \n",
       "1  None  None                                               DNS?  None   \n",
       "2  None  None  These benchmarks seem pretty good.  Filterable...  None   \n",
       "3  None  None  Oh really?<p>* Excel alone uses 86.1MB of priv...  None   \n",
       "4  None  None  These systems are useless.  Of the many flaws:...  None   \n",
       "\n",
       "           by  score        time                 timestamp     type        id  \\\n",
       "0       zeveb    NaN  1591717736 2020-06-09 15:48:56+00:00  comment  23467666   \n",
       "1         nly    NaN  1572810465 2019-11-03 19:47:45+00:00  comment  21436112   \n",
       "2      mrkeen    NaN  1591717727 2020-06-09 15:48:47+00:00  comment  23467665   \n",
       "3  oceanswave    NaN  1462987532 2016-05-11 17:25:32+00:00  comment  11677248   \n",
       "4      nyxxie    NaN  1572810473 2019-11-03 19:47:53+00:00  comment  21436113   \n",
       "\n",
       "     parent  descendants  ranking deleted  \n",
       "0  23456782          NaN      NaN    None  \n",
       "1  21435130          NaN      NaN    None  \n",
       "2  23467426          NaN      NaN    None  \n",
       "3  11676886          NaN      NaN    None  \n",
       "4  21435025          NaN      NaN    None  "
      ]
     },
     "execution_count": 7,
     "metadata": {},
     "output_type": "execute_result"
    }
   ],
   "source": [
    "client.list_rows(table, max_results=5).to_dataframe()"
   ]
  },
  {
   "cell_type": "markdown",
   "metadata": {},
   "source": [
    "The list_rows() method will also let us look at just the information in a specific column. If we want to see the first five entries in the by column, for example, we can do that!"
   ]
  },
  {
   "cell_type": "code",
   "execution_count": 8,
   "metadata": {
    "scrolled": true
   },
   "outputs": [
    {
     "name": "stderr",
     "output_type": "stream",
     "text": [
      "C:\\Users\\jm\\AppData\\Local\\Temp\\ipykernel_4036\\1269172185.py:2: UserWarning: Cannot use bqstorage_client if max_results is set, reverting to fetching data with the tabledata.list endpoint.\n",
      "  client.list_rows(table, selected_fields=table.schema[:1], max_results=5).to_dataframe()\n"
     ]
    },
    {
     "data": {
      "text/html": [
       "<div>\n",
       "<style scoped>\n",
       "    .dataframe tbody tr th:only-of-type {\n",
       "        vertical-align: middle;\n",
       "    }\n",
       "\n",
       "    .dataframe tbody tr th {\n",
       "        vertical-align: top;\n",
       "    }\n",
       "\n",
       "    .dataframe thead th {\n",
       "        text-align: right;\n",
       "    }\n",
       "</style>\n",
       "<table border=\"1\" class=\"dataframe\">\n",
       "  <thead>\n",
       "    <tr style=\"text-align: right;\">\n",
       "      <th></th>\n",
       "      <th>title</th>\n",
       "    </tr>\n",
       "  </thead>\n",
       "  <tbody>\n",
       "    <tr>\n",
       "      <th>0</th>\n",
       "      <td>None</td>\n",
       "    </tr>\n",
       "    <tr>\n",
       "      <th>1</th>\n",
       "      <td>None</td>\n",
       "    </tr>\n",
       "    <tr>\n",
       "      <th>2</th>\n",
       "      <td>None</td>\n",
       "    </tr>\n",
       "    <tr>\n",
       "      <th>3</th>\n",
       "      <td>None</td>\n",
       "    </tr>\n",
       "    <tr>\n",
       "      <th>4</th>\n",
       "      <td>None</td>\n",
       "    </tr>\n",
       "  </tbody>\n",
       "</table>\n",
       "</div>"
      ],
      "text/plain": [
       "  title\n",
       "0  None\n",
       "1  None\n",
       "2  None\n",
       "3  None\n",
       "4  None"
      ]
     },
     "execution_count": 8,
     "metadata": {},
     "output_type": "execute_result"
    }
   ],
   "source": [
    "# Preview the first five entries in the \"by\" column of the \"full\" table\n",
    "client.list_rows(table, selected_fields=table.schema[:1], max_results=5).to_dataframe()"
   ]
  }
 ],
 "metadata": {
  "kernelspec": {
   "display_name": "Python 3 (ipykernel)",
   "language": "python",
   "name": "python3"
  },
  "language_info": {
   "codemirror_mode": {
    "name": "ipython",
    "version": 3
   },
   "file_extension": ".py",
   "mimetype": "text/x-python",
   "name": "python",
   "nbconvert_exporter": "python",
   "pygments_lexer": "ipython3",
   "version": "3.10.11"
  }
 },
 "nbformat": 4,
 "nbformat_minor": 4
}
