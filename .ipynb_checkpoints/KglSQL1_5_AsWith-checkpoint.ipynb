{
 "cells": [
  {
   "attachments": {},
   "cell_type": "markdown",
   "metadata": {},
   "source": [
    "# Kaggle Intro to SQL (and BigQuery)\n",
    "- https://www.kaggle.com/learn/intro-to-sql"
   ]
  },
  {
   "attachments": {},
   "cell_type": "markdown",
   "metadata": {},
   "source": [
    "## 5. As & With\n",
    "- Organize your query for better readability. This becomes especially importan for complex queries."
   ]
  },
  {
   "cell_type": "markdown",
   "metadata": {},
   "source": [
    "### Introduction"
   ]
  },
  {
   "cell_type": "markdown",
   "metadata": {},
   "source": [
    "- With all that you've learned, your SQL queries are getting pretty long, which can make them hard understand (and debug).\n",
    "- You are about to learn how to use AS and WITH to tidy up your queries and make them easier to read."
   ]
  },
  {
   "cell_type": "markdown",
   "metadata": {},
   "source": [
    "### AS - aliasing"
   ]
  },
  {
   "cell_type": "markdown",
   "metadata": {},
   "source": [
    "- To use AS in SQL, insert it right after the column you select.\n",
    "\n",
    "``` Python:\n",
    "query = '''\n",
    "    SELECT Animal, COUNT(ID)\n",
    "    FROM `bigquery-public-data.pet_records.pets`\n",
    "    GROUP BY Animal '''\n",
    "\n",
    "query = '''\n",
    "    SELECT Animal, COUNT(ID) AS number\n",
    "    FROM `bigquery-public-data.pet_records.pets`\n",
    "    GROUP BY Animal '''\n",
    "```"
   ]
  },
  {
   "cell_type": "markdown",
   "metadata": {},
   "source": [
    "### WITH... AS"
   ]
  },
  {
   "cell_type": "markdown",
   "metadata": {},
   "source": [
    "- AS is more powerful when combined with WITH in what's called a CTE\n",
    "- CTE, a common table expression, is a temporary table that you return within your query.\n",
    "- CTEs are helpful for splitting your queries into readable chunks, and you can write queries against them.\n",
    "\n",
    "``` Python:\n",
    "query = '''\n",
    "    WITH Seniors AS\n",
    "    (\n",
    "        SELECT ID, Name\n",
    "        FROM `bigquery-public-data.pet_records.pets`\n",
    "        WHERE Years_old > 5\n",
    "    )\n",
    "    SELECT ID\n",
    "    FROM Seniors '''\n",
    "```\n",
    "- You could do this without a CTE, but if this were the first part of a very long query, removing the CTE would make it much harder to follow. -- later in the exercise I will do both cases: with and without CTE.\n",
    "- Also, it's important to note that CTEs only exist inside the query where you create them, and you can't reference them in later queries. So, any query that uses a CTE is always broken into two parts: (1) first, we create the CTE, and then (2) we write a query that uses the CTE."
   ]
  },
  {
   "cell_type": "markdown",
   "metadata": {},
   "source": [
    "### Example: How many Bitcoin transactions are made per month?"
   ]
  },
  {
   "cell_type": "markdown",
   "metadata": {},
   "source": [
    "- We're going to use a CTE to find out how many Bitcoin transactions were made each day for the entire timespan of a bitcoin transaction dataset.\n",
    "- We'll investigate the transactions table. Here is a view of the first few rows. (The corresponding code is hidden, but you can un-hide it by clicking on the \"Code\" button below.)"
   ]
  },
  {
   "cell_type": "code",
   "execution_count": 1,
   "metadata": {},
   "outputs": [
    {
     "name": "stderr",
     "output_type": "stream",
     "text": [
      "C:\\Users\\jm\\anaconda3\\envs\\KglSQL_1\\lib\\site-packages\\google\\auth\\_default.py:70: UserWarning: Your application has authenticated using end user credentials from Google Cloud SDK without a quota project. You might receive a \"quota exceeded\" or \"API not enabled\" error. We recommend you rerun `gcloud auth application-default login` and make sure a quota project is added. Or you can use service accounts instead. For more information about service accounts, see https://cloud.google.com/docs/authentication/\n",
      "  warnings.warn(_CLOUD_SDK_CREDENTIALS_WARNING)\n",
      "C:\\Users\\jm\\AppData\\Local\\Temp\\ipykernel_10392\\3985716981.py:20: UserWarning: Cannot use bqstorage_client if max_results is set, reverting to fetching data with the tabledata.list endpoint.\n",
      "  client.list_rows(table, max_results=5).to_dataframe()\n"
     ]
    },
    {
     "data": {
      "text/html": [
       "<div>\n",
       "<style scoped>\n",
       "    .dataframe tbody tr th:only-of-type {\n",
       "        vertical-align: middle;\n",
       "    }\n",
       "\n",
       "    .dataframe tbody tr th {\n",
       "        vertical-align: top;\n",
       "    }\n",
       "\n",
       "    .dataframe thead th {\n",
       "        text-align: right;\n",
       "    }\n",
       "</style>\n",
       "<table border=\"1\" class=\"dataframe\">\n",
       "  <thead>\n",
       "    <tr style=\"text-align: right;\">\n",
       "      <th></th>\n",
       "      <th>hash</th>\n",
       "      <th>size</th>\n",
       "      <th>virtual_size</th>\n",
       "      <th>version</th>\n",
       "      <th>lock_time</th>\n",
       "      <th>block_hash</th>\n",
       "      <th>block_number</th>\n",
       "      <th>block_timestamp</th>\n",
       "      <th>block_timestamp_month</th>\n",
       "      <th>input_count</th>\n",
       "      <th>output_count</th>\n",
       "      <th>input_value</th>\n",
       "      <th>output_value</th>\n",
       "      <th>is_coinbase</th>\n",
       "      <th>fee</th>\n",
       "      <th>inputs</th>\n",
       "      <th>outputs</th>\n",
       "    </tr>\n",
       "  </thead>\n",
       "  <tbody>\n",
       "    <tr>\n",
       "      <th>0</th>\n",
       "      <td>a16f3ce4dd5deb92d98ef5cf8afeaf0775ebca408f708b...</td>\n",
       "      <td>275</td>\n",
       "      <td>275</td>\n",
       "      <td>1</td>\n",
       "      <td>0</td>\n",
       "      <td>00000000dc55860c8a29c58d45209318fa9e9dc2c1833a...</td>\n",
       "      <td>181</td>\n",
       "      <td>2009-01-12 06:02:13+00:00</td>\n",
       "      <td>2009-01-01</td>\n",
       "      <td>1</td>\n",
       "      <td>2</td>\n",
       "      <td>4000000000.000000000</td>\n",
       "      <td>4000000000.000000000</td>\n",
       "      <td>False</td>\n",
       "      <td>0E-9</td>\n",
       "      <td>[{'index': 0, 'spent_transaction_hash': 'f4184...</td>\n",
       "      <td>[{'index': 0, 'script_asm': '04b5abd412d4341b4...</td>\n",
       "    </tr>\n",
       "    <tr>\n",
       "      <th>1</th>\n",
       "      <td>591e91f809d716912ca1d4a9295e70c3e78bab077683f7...</td>\n",
       "      <td>275</td>\n",
       "      <td>275</td>\n",
       "      <td>1</td>\n",
       "      <td>0</td>\n",
       "      <td>0000000054487811fc4ff7a95be738aa5ad9320c394c48...</td>\n",
       "      <td>182</td>\n",
       "      <td>2009-01-12 06:12:16+00:00</td>\n",
       "      <td>2009-01-01</td>\n",
       "      <td>1</td>\n",
       "      <td>2</td>\n",
       "      <td>3000000000.000000000</td>\n",
       "      <td>3000000000.000000000</td>\n",
       "      <td>False</td>\n",
       "      <td>0E-9</td>\n",
       "      <td>[{'index': 0, 'spent_transaction_hash': 'a16f3...</td>\n",
       "      <td>[{'index': 0, 'script_asm': '0401518fa1d1e1e3e...</td>\n",
       "    </tr>\n",
       "    <tr>\n",
       "      <th>2</th>\n",
       "      <td>12b5633bad1f9c167d523ad1aa1947b2732a865bf5414e...</td>\n",
       "      <td>276</td>\n",
       "      <td>276</td>\n",
       "      <td>1</td>\n",
       "      <td>0</td>\n",
       "      <td>00000000f46e513f038baf6f2d9a95b2a28d8a6c985bcf...</td>\n",
       "      <td>183</td>\n",
       "      <td>2009-01-12 06:34:22+00:00</td>\n",
       "      <td>2009-01-01</td>\n",
       "      <td>1</td>\n",
       "      <td>2</td>\n",
       "      <td>2900000000.000000000</td>\n",
       "      <td>2900000000.000000000</td>\n",
       "      <td>False</td>\n",
       "      <td>0E-9</td>\n",
       "      <td>[{'index': 0, 'spent_transaction_hash': '591e9...</td>\n",
       "      <td>[{'index': 0, 'script_asm': '04baa9d3665315562...</td>\n",
       "    </tr>\n",
       "    <tr>\n",
       "      <th>3</th>\n",
       "      <td>828ef3b079f9c23829c56fe86e85b4a69d9e06e5b54ea5...</td>\n",
       "      <td>276</td>\n",
       "      <td>276</td>\n",
       "      <td>1</td>\n",
       "      <td>0</td>\n",
       "      <td>00000000fb5b44edc7a1aa105075564a179d65506e2bd2...</td>\n",
       "      <td>248</td>\n",
       "      <td>2009-01-12 20:04:20+00:00</td>\n",
       "      <td>2009-01-01</td>\n",
       "      <td>1</td>\n",
       "      <td>2</td>\n",
       "      <td>2800000000.000000000</td>\n",
       "      <td>2800000000.000000000</td>\n",
       "      <td>False</td>\n",
       "      <td>0E-9</td>\n",
       "      <td>[{'index': 0, 'spent_transaction_hash': '12b56...</td>\n",
       "      <td>[{'index': 0, 'script_asm': '04bed827d37474bef...</td>\n",
       "    </tr>\n",
       "    <tr>\n",
       "      <th>4</th>\n",
       "      <td>35288d269cee1941eaebb2ea85e32b42cdb2b04284a56d...</td>\n",
       "      <td>277</td>\n",
       "      <td>277</td>\n",
       "      <td>1</td>\n",
       "      <td>0</td>\n",
       "      <td>00000000689051c09ff2cd091cc4c22c10b965eb8db3ad...</td>\n",
       "      <td>545</td>\n",
       "      <td>2009-01-15 05:48:32+00:00</td>\n",
       "      <td>2009-01-01</td>\n",
       "      <td>1</td>\n",
       "      <td>2</td>\n",
       "      <td>2500000000.000000000</td>\n",
       "      <td>2500000000.000000000</td>\n",
       "      <td>False</td>\n",
       "      <td>0E-9</td>\n",
       "      <td>[{'index': 0, 'spent_transaction_hash': 'd71fd...</td>\n",
       "      <td>[{'index': 0, 'script_asm': '044a656f065871a35...</td>\n",
       "    </tr>\n",
       "  </tbody>\n",
       "</table>\n",
       "</div>"
      ],
      "text/plain": [
       "                                                hash  size  virtual_size  \\\n",
       "0  a16f3ce4dd5deb92d98ef5cf8afeaf0775ebca408f708b...   275           275   \n",
       "1  591e91f809d716912ca1d4a9295e70c3e78bab077683f7...   275           275   \n",
       "2  12b5633bad1f9c167d523ad1aa1947b2732a865bf5414e...   276           276   \n",
       "3  828ef3b079f9c23829c56fe86e85b4a69d9e06e5b54ea5...   276           276   \n",
       "4  35288d269cee1941eaebb2ea85e32b42cdb2b04284a56d...   277           277   \n",
       "\n",
       "   version  lock_time                                         block_hash  \\\n",
       "0        1          0  00000000dc55860c8a29c58d45209318fa9e9dc2c1833a...   \n",
       "1        1          0  0000000054487811fc4ff7a95be738aa5ad9320c394c48...   \n",
       "2        1          0  00000000f46e513f038baf6f2d9a95b2a28d8a6c985bcf...   \n",
       "3        1          0  00000000fb5b44edc7a1aa105075564a179d65506e2bd2...   \n",
       "4        1          0  00000000689051c09ff2cd091cc4c22c10b965eb8db3ad...   \n",
       "\n",
       "   block_number           block_timestamp block_timestamp_month  input_count  \\\n",
       "0           181 2009-01-12 06:02:13+00:00            2009-01-01            1   \n",
       "1           182 2009-01-12 06:12:16+00:00            2009-01-01            1   \n",
       "2           183 2009-01-12 06:34:22+00:00            2009-01-01            1   \n",
       "3           248 2009-01-12 20:04:20+00:00            2009-01-01            1   \n",
       "4           545 2009-01-15 05:48:32+00:00            2009-01-01            1   \n",
       "\n",
       "   output_count           input_value          output_value  is_coinbase  \\\n",
       "0             2  4000000000.000000000  4000000000.000000000        False   \n",
       "1             2  3000000000.000000000  3000000000.000000000        False   \n",
       "2             2  2900000000.000000000  2900000000.000000000        False   \n",
       "3             2  2800000000.000000000  2800000000.000000000        False   \n",
       "4             2  2500000000.000000000  2500000000.000000000        False   \n",
       "\n",
       "    fee                                             inputs  \\\n",
       "0  0E-9  [{'index': 0, 'spent_transaction_hash': 'f4184...   \n",
       "1  0E-9  [{'index': 0, 'spent_transaction_hash': 'a16f3...   \n",
       "2  0E-9  [{'index': 0, 'spent_transaction_hash': '591e9...   \n",
       "3  0E-9  [{'index': 0, 'spent_transaction_hash': '12b56...   \n",
       "4  0E-9  [{'index': 0, 'spent_transaction_hash': 'd71fd...   \n",
       "\n",
       "                                             outputs  \n",
       "0  [{'index': 0, 'script_asm': '04b5abd412d4341b4...  \n",
       "1  [{'index': 0, 'script_asm': '0401518fa1d1e1e3e...  \n",
       "2  [{'index': 0, 'script_asm': '04baa9d3665315562...  \n",
       "3  [{'index': 0, 'script_asm': '04bed827d37474bef...  \n",
       "4  [{'index': 0, 'script_asm': '044a656f065871a35...  "
      ]
     },
     "execution_count": 1,
     "metadata": {},
     "output_type": "execute_result"
    }
   ],
   "source": [
    "from google.cloud import bigquery\n",
    "\n",
    "# Create a \"Client\" object\n",
    "#client = bigquery.Client('jmProject86385')\n",
    "client = bigquery.Client('jmproject86385')\n",
    "\n",
    "# Construct a reference to the \"crypto_bitcoin\" dataset\n",
    "dataset_ref = client.dataset(\"crypto_bitcoin\", project=\"bigquery-public-data\")\n",
    "\n",
    "# API request - fetch the dataset\n",
    "dataset = client.get_dataset(dataset_ref)\n",
    "\n",
    "# Construct a reference to the \"transactions\" table\n",
    "table_ref = dataset_ref.table(\"transactions\")\n",
    "\n",
    "# API request - fetch the table\n",
    "table = client.get_table(table_ref)\n",
    "\n",
    "# Preview the first five lines of the \"transactions\" table\n",
    "client.list_rows(table, max_results=5).to_dataframe()"
   ]
  },
  {
   "cell_type": "markdown",
   "metadata": {},
   "source": [
    "- Since the block_timestamp column contains the date of each transaction in DATETIME format, we'll convert these into DATE format using the DATE() command.\n",
    "- We do that using a CTE, and then the next part of the query counts the number of transactions for each date and sorts the table so that earlier dates appear first."
   ]
  },
  {
   "cell_type": "code",
   "execution_count": 2,
   "metadata": {},
   "outputs": [
    {
     "data": {
      "text/html": [
       "<div>\n",
       "<style scoped>\n",
       "    .dataframe tbody tr th:only-of-type {\n",
       "        vertical-align: middle;\n",
       "    }\n",
       "\n",
       "    .dataframe tbody tr th {\n",
       "        vertical-align: top;\n",
       "    }\n",
       "\n",
       "    .dataframe thead th {\n",
       "        text-align: right;\n",
       "    }\n",
       "</style>\n",
       "<table border=\"1\" class=\"dataframe\">\n",
       "  <thead>\n",
       "    <tr style=\"text-align: right;\">\n",
       "      <th></th>\n",
       "      <th>transactions</th>\n",
       "      <th>trans_date</th>\n",
       "    </tr>\n",
       "  </thead>\n",
       "  <tbody>\n",
       "    <tr>\n",
       "      <th>0</th>\n",
       "      <td>1</td>\n",
       "      <td>2009-01-03</td>\n",
       "    </tr>\n",
       "    <tr>\n",
       "      <th>1</th>\n",
       "      <td>14</td>\n",
       "      <td>2009-01-09</td>\n",
       "    </tr>\n",
       "    <tr>\n",
       "      <th>2</th>\n",
       "      <td>61</td>\n",
       "      <td>2009-01-10</td>\n",
       "    </tr>\n",
       "    <tr>\n",
       "      <th>3</th>\n",
       "      <td>93</td>\n",
       "      <td>2009-01-11</td>\n",
       "    </tr>\n",
       "    <tr>\n",
       "      <th>4</th>\n",
       "      <td>101</td>\n",
       "      <td>2009-01-12</td>\n",
       "    </tr>\n",
       "  </tbody>\n",
       "</table>\n",
       "</div>"
      ],
      "text/plain": [
       "   transactions  trans_date\n",
       "0             1  2009-01-03\n",
       "1            14  2009-01-09\n",
       "2            61  2009-01-10\n",
       "3            93  2009-01-11\n",
       "4           101  2009-01-12"
      ]
     },
     "execution_count": 2,
     "metadata": {},
     "output_type": "execute_result"
    }
   ],
   "source": [
    "# Query to select the number of transactions per date, sorted by date\n",
    "query_with_CTE = \"\"\" \n",
    "                 WITH time AS \n",
    "                 (\n",
    "                     SELECT DATE(block_timestamp) AS trans_date\n",
    "                     FROM `bigquery-public-data.crypto_bitcoin.transactions`\n",
    "                 )\n",
    "                 SELECT COUNT(1) AS transactions,\n",
    "                        trans_date\n",
    "                 FROM time\n",
    "                 GROUP BY trans_date\n",
    "                 ORDER BY trans_date\n",
    "                 \"\"\"\n",
    "\n",
    "# Set up the query (cancel the query if it would use too much of \n",
    "# your quota, with the limit set to 10 GB)\n",
    "safe_config = bigquery.QueryJobConfig(maximum_bytes_billed=10**10)\n",
    "query_job = client.query(query_with_CTE, job_config=safe_config)\n",
    "\n",
    "# API request - run the query, and convert the results to a pandas DataFrame\n",
    "transactions_by_date = query_job.to_dataframe()\n",
    "\n",
    "# Print the first five rows\n",
    "transactions_by_date.head()"
   ]
  },
  {
   "cell_type": "markdown",
   "metadata": {},
   "source": [
    "- Since they're returned sorted, we can easily plot the raw results to show us the number of Bitcoin transactions per day over the whole timespan of this dataset.\n",
    "- transaction_by_date IS a DataFrame - easy to plot"
   ]
  },
  {
   "cell_type": "code",
   "execution_count": 3,
   "metadata": {},
   "outputs": [
    {
     "data": {
      "text/plain": [
       "<Axes: xlabel='trans_date'>"
      ]
     },
     "execution_count": 3,
     "metadata": {},
     "output_type": "execute_result"
    },
    {
     "data": {
      "image/png": "[encoded data removed]",
      "text/plain": [
       "<Figure size 640x480 with 1 Axes>"
      ]
     },
     "metadata": {},
     "output_type": "display_data"
    }
   ],
   "source": [
    "#import matplotlib.pyplot as plt\n",
    "\n",
    "transactions_by_date.set_index('trans_date').plot()"
   ]
  },
  {
   "cell_type": "markdown",
   "metadata": {},
   "source": [
    "### JM both cases: with and without CTE"
   ]
  },
  {
   "cell_type": "code",
   "execution_count": null,
   "metadata": {},
   "outputs": [],
   "source": []
  }
 ],
 "metadata": {
  "kernelspec": {
   "display_name": "Python 3 (ipykernel)",
   "language": "python",
   "name": "python3"
  },
  "language_info": {
   "codemirror_mode": {
    "name": "ipython",
    "version": 3
   },
   "file_extension": ".py",
   "mimetype": "text/x-python",
   "name": "python",
   "nbconvert_exporter": "python",
   "pygments_lexer": "ipython3",
   "version": "3.10.11"
  }
 },
 "nbformat": 4,
 "nbformat_minor": 4
}
