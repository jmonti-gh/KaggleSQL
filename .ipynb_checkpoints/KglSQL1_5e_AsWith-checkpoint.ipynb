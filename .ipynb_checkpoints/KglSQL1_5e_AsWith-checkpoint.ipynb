{
 "cells": [
  {
   "attachments": {},
   "cell_type": "markdown",
   "metadata": {},
   "source": [
    "# Kaggle Intro to SQL (and BigQuery)\n",
    "- https://www.kaggle.com/learn/intro-to-sql"
   ]
  },
  {
   "attachments": {},
   "cell_type": "markdown",
   "metadata": {},
   "source": [
    "## 4. Exercise: As & With\n",
    "- plus CTE (Common Table Expression)"
   ]
  },
  {
   "cell_type": "markdown",
   "metadata": {},
   "source": [
    "### Introduction\n",
    "- You are getting to the point where you can own an analysis from beginning to end.\n",
    "- We are going to work with a dataset about taxi trips in the city of Chicago. Run the cell below to fetch the chicago_taxi_trips dataset."
   ]
  },
  {
   "cell_type": "code",
   "execution_count": 1,
   "metadata": {
    "scrolled": true
   },
   "outputs": [
    {
     "name": "stderr",
     "output_type": "stream",
     "text": [
      "C:\\Users\\jm\\anaconda3\\envs\\KglSQL_1\\lib\\site-packages\\google\\auth\\_default.py:70: UserWarning: Your application has authenticated using end user credentials from Google Cloud SDK without a quota project. You might receive a \"quota exceeded\" or \"API not enabled\" error. We recommend you rerun `gcloud auth application-default login` and make sure a quota project is added. Or you can use service accounts instead. For more information about service accounts, see https://cloud.google.com/docs/authentication/\n",
      "  warnings.warn(_CLOUD_SDK_CREDENTIALS_WARNING)\n"
     ]
    },
    {
     "name": "stdout",
     "output_type": "stream",
     "text": [
      "1\n",
      "taxi_trips\n"
     ]
    }
   ],
   "source": [
    "### Fetch the 'full' table from the 'hacker_news' dataset.\n",
    "from google.cloud import bigquery\n",
    "\n",
    "# Create a \"Client\" object\n",
    "client = bigquery.Client('jmproject86385')\n",
    "\n",
    "# Construct a reference to the \"hacker_news\" dataset\n",
    "dataset_ref = client.dataset(\"chicago_taxi_trips\", project=\"bigquery-public-data\")\n",
    "\n",
    "# API request - fetch the dataset\n",
    "dataset = client.get_dataset(dataset_ref)\n",
    "\n",
    "# Tables in dataset, number and names\n",
    "tables = list(client.list_tables(dataset))\n",
    "print(len(tables))\n",
    "for tbl in tables:\n",
    "    print(tbl.table_id)"
   ]
  },
  {
   "cell_type": "markdown",
   "metadata": {},
   "source": [
    "### Ex. 1) Find the data\n",
    "- Before you can access the data, you need to find the table name with the data."
   ]
  },
  {
   "cell_type": "code",
   "execution_count": 2,
   "metadata": {},
   "outputs": [
    {
     "data": {
      "text/plain": [
       "'taxi_trips'"
      ]
     },
     "execution_count": 2,
     "metadata": {},
     "output_type": "execute_result"
    }
   ],
   "source": [
    "table_name = list(client.list_tables(dataset))[0].table_id\n",
    "table_name"
   ]
  },
  {
   "cell_type": "markdown",
   "metadata": {},
   "source": [
    "### Ex. 2) Peek at the data\n",
    "- Use the next code cell to peek at the top few rows of the data. Inspect the data and see if any issues with data quality are immediately obvious.\n",
    "- JM+, convert the whole table to a DataFrame"
   ]
  },
  {
   "cell_type": "code",
   "execution_count": 3,
   "metadata": {},
   "outputs": [
    {
     "name": "stderr",
     "output_type": "stream",
     "text": [
      "C:\\Users\\jm\\AppData\\Local\\Temp\\ipykernel_12572\\1126229163.py:8: UserWarning: Cannot use bqstorage_client if max_results is set, reverting to fetching data with the tabledata.list endpoint.\n",
      "  client.list_rows(table, max_results=5).to_dataframe()\n"
     ]
    },
    {
     "data": {
      "text/html": [
       "<div>\n",
       "<style scoped>\n",
       "    .dataframe tbody tr th:only-of-type {\n",
       "        vertical-align: middle;\n",
       "    }\n",
       "\n",
       "    .dataframe tbody tr th {\n",
       "        vertical-align: top;\n",
       "    }\n",
       "\n",
       "    .dataframe thead th {\n",
       "        text-align: right;\n",
       "    }\n",
       "</style>\n",
       "<table border=\"1\" class=\"dataframe\">\n",
       "  <thead>\n",
       "    <tr style=\"text-align: right;\">\n",
       "      <th></th>\n",
       "      <th>unique_key</th>\n",
       "      <th>taxi_id</th>\n",
       "      <th>trip_start_timestamp</th>\n",
       "      <th>trip_end_timestamp</th>\n",
       "      <th>trip_seconds</th>\n",
       "      <th>trip_miles</th>\n",
       "      <th>pickup_census_tract</th>\n",
       "      <th>dropoff_census_tract</th>\n",
       "      <th>pickup_community_area</th>\n",
       "      <th>dropoff_community_area</th>\n",
       "      <th>...</th>\n",
       "      <th>extras</th>\n",
       "      <th>trip_total</th>\n",
       "      <th>payment_type</th>\n",
       "      <th>company</th>\n",
       "      <th>pickup_latitude</th>\n",
       "      <th>pickup_longitude</th>\n",
       "      <th>pickup_location</th>\n",
       "      <th>dropoff_latitude</th>\n",
       "      <th>dropoff_longitude</th>\n",
       "      <th>dropoff_location</th>\n",
       "    </tr>\n",
       "  </thead>\n",
       "  <tbody>\n",
       "    <tr>\n",
       "      <th>0</th>\n",
       "      <td>327b1d0310c1e44ffc0b0f90aa61352b8b48e462</td>\n",
       "      <td>707bf241e39c6a1e051cc7f153487e9f2d65801042cb03...</td>\n",
       "      <td>2018-11-19 07:15:00+00:00</td>\n",
       "      <td>2018-11-19 07:15:00+00:00</td>\n",
       "      <td>0</td>\n",
       "      <td>0.0</td>\n",
       "      <td>NaN</td>\n",
       "      <td>NaN</td>\n",
       "      <td>NaN</td>\n",
       "      <td>NaN</td>\n",
       "      <td>...</td>\n",
       "      <td>NaN</td>\n",
       "      <td>NaN</td>\n",
       "      <td>Unknown</td>\n",
       "      <td>Taxi Affiliation Services</td>\n",
       "      <td>NaN</td>\n",
       "      <td>NaN</td>\n",
       "      <td>None</td>\n",
       "      <td>NaN</td>\n",
       "      <td>NaN</td>\n",
       "      <td>None</td>\n",
       "    </tr>\n",
       "    <tr>\n",
       "      <th>1</th>\n",
       "      <td>d98f04722704bda967a6a13aaf5f200368c1ed78</td>\n",
       "      <td>e6a9b95839d258d36f7d4040e681ddbc5e1ccfa604c361...</td>\n",
       "      <td>2018-12-04 13:45:00+00:00</td>\n",
       "      <td>2018-12-04 13:45:00+00:00</td>\n",
       "      <td>0</td>\n",
       "      <td>0.0</td>\n",
       "      <td>NaN</td>\n",
       "      <td>NaN</td>\n",
       "      <td>NaN</td>\n",
       "      <td>NaN</td>\n",
       "      <td>...</td>\n",
       "      <td>NaN</td>\n",
       "      <td>NaN</td>\n",
       "      <td>Unknown</td>\n",
       "      <td>Choice Taxi Association</td>\n",
       "      <td>NaN</td>\n",
       "      <td>NaN</td>\n",
       "      <td>None</td>\n",
       "      <td>NaN</td>\n",
       "      <td>NaN</td>\n",
       "      <td>None</td>\n",
       "    </tr>\n",
       "    <tr>\n",
       "      <th>2</th>\n",
       "      <td>bba2d63bb7d1a06bb5ddddc29d07e8514937635f</td>\n",
       "      <td>e6a9b95839d258d36f7d4040e681ddbc5e1ccfa604c361...</td>\n",
       "      <td>2018-12-10 13:15:00+00:00</td>\n",
       "      <td>2018-12-10 13:15:00+00:00</td>\n",
       "      <td>480</td>\n",
       "      <td>2.4</td>\n",
       "      <td>NaN</td>\n",
       "      <td>NaN</td>\n",
       "      <td>NaN</td>\n",
       "      <td>NaN</td>\n",
       "      <td>...</td>\n",
       "      <td>NaN</td>\n",
       "      <td>NaN</td>\n",
       "      <td>Unknown</td>\n",
       "      <td>Choice Taxi Association</td>\n",
       "      <td>NaN</td>\n",
       "      <td>NaN</td>\n",
       "      <td>None</td>\n",
       "      <td>NaN</td>\n",
       "      <td>NaN</td>\n",
       "      <td>None</td>\n",
       "    </tr>\n",
       "    <tr>\n",
       "      <th>3</th>\n",
       "      <td>c678ba6f5a8517aa42f3567edf244068e8961ae4</td>\n",
       "      <td>f47ce5a42b6e736badd5a196272f3d6961805248c631d6...</td>\n",
       "      <td>2019-01-09 12:30:00+00:00</td>\n",
       "      <td>2019-01-09 12:30:00+00:00</td>\n",
       "      <td>0</td>\n",
       "      <td>0.0</td>\n",
       "      <td>NaN</td>\n",
       "      <td>NaN</td>\n",
       "      <td>NaN</td>\n",
       "      <td>NaN</td>\n",
       "      <td>...</td>\n",
       "      <td>NaN</td>\n",
       "      <td>NaN</td>\n",
       "      <td>Unknown</td>\n",
       "      <td>Choice Taxi Association</td>\n",
       "      <td>NaN</td>\n",
       "      <td>NaN</td>\n",
       "      <td>None</td>\n",
       "      <td>NaN</td>\n",
       "      <td>NaN</td>\n",
       "      <td>None</td>\n",
       "    </tr>\n",
       "    <tr>\n",
       "      <th>4</th>\n",
       "      <td>4b65058a3a5b6290f702047d1630d93d3b8b0cb9</td>\n",
       "      <td>c19d802859a6a7fa0822f0b7156d8bbebe4830062f1832...</td>\n",
       "      <td>2019-03-08 16:00:00+00:00</td>\n",
       "      <td>2019-03-08 16:00:00+00:00</td>\n",
       "      <td>0</td>\n",
       "      <td>0.0</td>\n",
       "      <td>1.703128e+10</td>\n",
       "      <td>1.703128e+10</td>\n",
       "      <td>28.0</td>\n",
       "      <td>28.0</td>\n",
       "      <td>...</td>\n",
       "      <td>NaN</td>\n",
       "      <td>NaN</td>\n",
       "      <td>Unknown</td>\n",
       "      <td>Taxi Affiliation Services</td>\n",
       "      <td>41.8853</td>\n",
       "      <td>-87.642808</td>\n",
       "      <td>POINT (-87.6428084655 41.8853000224)</td>\n",
       "      <td>41.8853</td>\n",
       "      <td>-87.642808</td>\n",
       "      <td>POINT (-87.6428084655 41.8853000224)</td>\n",
       "    </tr>\n",
       "  </tbody>\n",
       "</table>\n",
       "<p>5 rows × 23 columns</p>\n",
       "</div>"
      ],
      "text/plain": [
       "                                 unique_key  \\\n",
       "0  327b1d0310c1e44ffc0b0f90aa61352b8b48e462   \n",
       "1  d98f04722704bda967a6a13aaf5f200368c1ed78   \n",
       "2  bba2d63bb7d1a06bb5ddddc29d07e8514937635f   \n",
       "3  c678ba6f5a8517aa42f3567edf244068e8961ae4   \n",
       "4  4b65058a3a5b6290f702047d1630d93d3b8b0cb9   \n",
       "\n",
       "                                             taxi_id  \\\n",
       "0  707bf241e39c6a1e051cc7f153487e9f2d65801042cb03...   \n",
       "1  e6a9b95839d258d36f7d4040e681ddbc5e1ccfa604c361...   \n",
       "2  e6a9b95839d258d36f7d4040e681ddbc5e1ccfa604c361...   \n",
       "3  f47ce5a42b6e736badd5a196272f3d6961805248c631d6...   \n",
       "4  c19d802859a6a7fa0822f0b7156d8bbebe4830062f1832...   \n",
       "\n",
       "       trip_start_timestamp        trip_end_timestamp  trip_seconds  \\\n",
       "0 2018-11-19 07:15:00+00:00 2018-11-19 07:15:00+00:00             0   \n",
       "1 2018-12-04 13:45:00+00:00 2018-12-04 13:45:00+00:00             0   \n",
       "2 2018-12-10 13:15:00+00:00 2018-12-10 13:15:00+00:00           480   \n",
       "3 2019-01-09 12:30:00+00:00 2019-01-09 12:30:00+00:00             0   \n",
       "4 2019-03-08 16:00:00+00:00 2019-03-08 16:00:00+00:00             0   \n",
       "\n",
       "   trip_miles  pickup_census_tract  dropoff_census_tract  \\\n",
       "0         0.0                  NaN                   NaN   \n",
       "1         0.0                  NaN                   NaN   \n",
       "2         2.4                  NaN                   NaN   \n",
       "3         0.0                  NaN                   NaN   \n",
       "4         0.0         1.703128e+10          1.703128e+10   \n",
       "\n",
       "   pickup_community_area  dropoff_community_area  ...  extras  trip_total  \\\n",
       "0                    NaN                     NaN  ...     NaN         NaN   \n",
       "1                    NaN                     NaN  ...     NaN         NaN   \n",
       "2                    NaN                     NaN  ...     NaN         NaN   \n",
       "3                    NaN                     NaN  ...     NaN         NaN   \n",
       "4                   28.0                    28.0  ...     NaN         NaN   \n",
       "\n",
       "   payment_type                    company  pickup_latitude pickup_longitude  \\\n",
       "0       Unknown  Taxi Affiliation Services              NaN              NaN   \n",
       "1       Unknown    Choice Taxi Association              NaN              NaN   \n",
       "2       Unknown    Choice Taxi Association              NaN              NaN   \n",
       "3       Unknown    Choice Taxi Association              NaN              NaN   \n",
       "4       Unknown  Taxi Affiliation Services          41.8853       -87.642808   \n",
       "\n",
       "                        pickup_location  dropoff_latitude  dropoff_longitude  \\\n",
       "0                                  None               NaN                NaN   \n",
       "1                                  None               NaN                NaN   \n",
       "2                                  None               NaN                NaN   \n",
       "3                                  None               NaN                NaN   \n",
       "4  POINT (-87.6428084655 41.8853000224)           41.8853         -87.642808   \n",
       "\n",
       "                       dropoff_location  \n",
       "0                                  None  \n",
       "1                                  None  \n",
       "2                                  None  \n",
       "3                                  None  \n",
       "4  POINT (-87.6428084655 41.8853000224)  \n",
       "\n",
       "[5 rows x 23 columns]"
      ]
     },
     "execution_count": 3,
     "metadata": {},
     "output_type": "execute_result"
    }
   ],
   "source": [
    "# Construct a reference to the \"comments\" table\n",
    "table_ref = dataset_ref.table(\"taxi_trips\")\n",
    "\n",
    "# API request - fetch the table\n",
    "table = client.get_table(table_ref)\n",
    "\n",
    "# Preview the first five lines of the \"comments\" table\n",
    "client.list_rows(table, max_results=5).to_dataframe()"
   ]
  },
  {
   "cell_type": "code",
   "execution_count": 4,
   "metadata": {},
   "outputs": [],
   "source": [
    "# ### Pass the whole table to a DF could be EXPENSIVE !!\n",
    "# # There are lot of data, ex. w/ a query\n",
    "# query = '''\n",
    "#     SELECT *\n",
    "#     FROM `bigquery-public-data.chicago_taxi_trips.taxi_trips` '''\n",
    "# query_job = client.query(query)\n",
    "# df = query_job.to_dataframe()"
   ]
  },
  {
   "cell_type": "markdown",
   "metadata": {},
   "source": [
    "### Ex. 3) Determine when this data is from"
   ]
  },
  {
   "cell_type": "markdown",
   "metadata": {},
   "source": [
    "If the data is sufficiently old, we might be careful before assuming the data is still relevant to traffic patterns today. Write a query that counts the number of trips in each year. Your results should have two columns:\n",
    "- `year` - the year of the trips.\n",
    "- `num_trips` - number of trips in that year.\n",
    "Hints:\r\n",
    "    When using GROUP BY and ORDER BY, you should refer to the columns by the alias year that you set at the top of the SELECT query.\r\n",
    "    The SQL code to SELECT the year from trip_start_timestamp is SELECT EXTRACT(YEAR FROM trip_start_timestamp)\r\n",
    "    The FROM field can be a little tricky until you are used to it. The format is:\r\n",
    "        A backick (the symbol `).\r\n",
    "        The project name. In this case it is bigquery-public-data.\r\n",
    "        A period.\r\n",
    "        The dataset name. In this case, it is chicago_taxi_trips.\r\n",
    "        A period.\r\n",
    "        The table name. You used this as your answer in 1) Find the data.\r\n",
    "        A backtick (the symbol `).\r\n"
   ]
  },
  {
   "cell_type": "code",
   "execution_count": 5,
   "metadata": {},
   "outputs": [
    {
     "name": "stdout",
     "output_type": "stream",
     "text": [
      "    num_trips  year\n",
      "0    27217300  2013\n",
      "1    37395079  2014\n",
      "2    32385527  2015\n",
      "3    31756403  2016\n",
      "4    24979611  2017\n",
      "5    20731105  2018\n",
      "6    16476440  2019\n",
      "7     3888831  2020\n",
      "8     3947677  2021\n",
      "9     6382071  2022\n",
      "10    3234974  2023\n"
     ]
    }
   ],
   "source": [
    "# Your code goes here\n",
    "rides_per_year_query = \"\"\"\n",
    "    SELECT COUNT(1) AS num_trips, EXTRACT(YEAR FROM trip_start_timestamp) AS year\n",
    "    FROM `bigquery-public-data.chicago_taxi_trips.taxi_trips`\n",
    "    GROUP BY year\n",
    "    ORDER BY year \"\"\"\n",
    "\n",
    "# Set up the query (cancel the query if it would use too much of \n",
    "# your quota)\n",
    "safe_config = bigquery.QueryJobConfig(maximum_bytes_billed=10**10)\n",
    "rides_per_year_query_job = client.query(rides_per_year_query, job_config=safe_config)\n",
    "\n",
    "# API request - run the query, and return a pandas DataFrame\n",
    "rides_per_year_result = rides_per_year_query_job.to_dataframe()\n",
    "\n",
    "# View results\n",
    "print(rides_per_year_result)"
   ]
  },
  {
   "cell_type": "markdown",
   "metadata": {},
   "source": [
    "rides_per_year_query = \"\"\"\r\n",
    "                       SELECT EXTRACT(YEAR FROM trip_start_timestamp) AS year, \r\n",
    "                              COUNT(1) AS num_trips\r\n",
    "                       FROM `bigquery-public-data.chicago_taxi_trips.taxi_trips`\r\n",
    "                       GROUP BY year\r\n",
    "                       ORDER BY year\r\n",
    "                       \"\"\""
   ]
  },
  {
   "cell_type": "markdown",
   "metadata": {},
   "source": [
    "### Ex. 4) Dive slightly deeper"
   ]
  },
  {
   "cell_type": "markdown",
   "metadata": {},
   "source": [
    "You'd like to take a closer look at rides from 2016. Copy the query you used above in rides_per_year_query into the cell below for rides_per_month_query. Then modify it in two ways:\n",
    "1. Use a WHERE clause to limit the query to data from 2016.\n",
    "2. Modify the query to extract the month rather than the year."
   ]
  },
  {
   "cell_type": "code",
   "execution_count": 7,
   "metadata": {},
   "outputs": [
    {
     "name": "stdout",
     "output_type": "stream",
     "text": [
      "    month  num_trips\n",
      "0       1    2510389\n",
      "1       2    2568433\n",
      "2       3    2851106\n",
      "3       4    2854290\n",
      "4       5    2859147\n",
      "5       6    2841872\n",
      "6       7    2682912\n",
      "7       8    2629482\n",
      "8       9    2532650\n",
      "9      10    2725340\n",
      "10     11    2387790\n",
      "11     12    2312992\n"
     ]
    }
   ],
   "source": [
    "# Your code goes here\n",
    "rides_per_month_query = \"\"\"\n",
    "    SELECT EXTRACT(MONTH FROM trip_start_timestamp) AS month,\n",
    "        COUNT(1) AS num_trips\n",
    "    FROM `bigquery-public-data.chicago_taxi_trips.taxi_trips`\n",
    "    WHERE EXTRACT (YEAR FROM trip_start_timestamp) = 2016\n",
    "    GROUP BY month\n",
    "    ORDER BY month \"\"\"\n",
    "\n",
    "# Set up the query\n",
    "safe_config = bigquery.QueryJobConfig(maximum_bytes_billed=10**10)\n",
    "rides_per_month_query_job = client.query(rides_per_month_query, job_config=safe_config)\n",
    "\n",
    "# API request - run the query, and return a pandas DataFrame\n",
    "rides_per_month_result = rides_per_month_query_job.to_dataframe()\n",
    "\n",
    "# View results\n",
    "print(rides_per_month_result)"
   ]
  },
  {
   "cell_type": "markdown",
   "metadata": {},
   "source": [
    "### Ex. 5) Write the query"
   ]
  },
  {
   "cell_type": "markdown",
   "metadata": {},
   "source": [
    "- It's time to step up the sophistication of your queries. Write a query that shows, for each hour of the day in the dataset, the corresponding number of trips and average speed.\n",
    "- -"
   ]
  },
  {
   "cell_type": "code",
   "execution_count": null,
   "metadata": {},
   "outputs": [],
   "source": []
  },
  {
   "cell_type": "code",
   "execution_count": null,
   "metadata": {},
   "outputs": [],
   "source": []
  }
 ],
 "metadata": {
  "kernelspec": {
   "display_name": "Python 3 (ipykernel)",
   "language": "python",
   "name": "python3"
  },
  "language_info": {
   "codemirror_mode": {
    "name": "ipython",
    "version": 3
   },
   "file_extension": ".py",
   "mimetype": "text/x-python",
   "name": "python",
   "nbconvert_exporter": "python",
   "pygments_lexer": "ipython3",
   "version": "3.10.11"
  }
 },
 "nbformat": 4,
 "nbformat_minor": 4
}
