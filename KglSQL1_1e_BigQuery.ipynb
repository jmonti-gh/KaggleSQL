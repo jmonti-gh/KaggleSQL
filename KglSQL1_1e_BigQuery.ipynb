{
 "cells": [
  {
   "attachments": {},
   "cell_type": "markdown",
   "metadata": {},
   "source": [
    "# Kaggle Intro to SQL (and BigQuery)\n",
    "- https://www.kaggle.com/learn/intro-to-sql"
   ]
  },
  {
   "attachments": {},
   "cell_type": "markdown",
   "metadata": {},
   "source": [
    "## 1. Exercise: Getting Started With SQL and BigQuery\n",
    "- Learn the workflow for handling big datasets with BigQuery and SQL"
   ]
  },
  {
   "cell_type": "markdown",
   "metadata": {},
   "source": [
    "### Intro\n",
    "- The first test of your new data exploration skills uses data describing crime in the city of Chicago."
   ]
  },
  {
   "cell_type": "code",
   "execution_count": 20,
   "metadata": {},
   "outputs": [],
   "source": [
    "### To fetch the dataset (in dataset var)\n",
    "from google.cloud import bigquery\n",
    "\n",
    "# Create a 'Client' object\n",
    "client = bigquery.Client('jmpro2')\n",
    "\n",
    "# Construct a reference to the 'chicago_crime' dataset\n",
    "dataset_ref = client.dataset('chicago_crime', project='bigquery-public-data')\n",
    "\n",
    "# API request - fetch the dataset\n",
    "dataset = client.get_dataset(dataset_ref)"
   ]
  },
  {
   "cell_type": "markdown",
   "metadata": {},
   "source": [
    "### Ex. 1) Count tables in the dataset"
   ]
  },
  {
   "cell_type": "code",
   "execution_count": 21,
   "metadata": {},
   "outputs": [
    {
     "name": "stdout",
     "output_type": "stream",
     "text": [
      "1\n",
      "crime\n"
     ]
    }
   ],
   "source": [
    "# List of all the tables in the \"hacker_news\" dataset\n",
    "tables = list(client.list_tables(dataset))\n",
    "print(len(tables))\n",
    "for tbl in tables:\n",
    "    print(tbl.table_id)"
   ]
  },
  {
   "cell_type": "code",
   "execution_count": 22,
   "metadata": {},
   "outputs": [
    {
     "data": {
      "text/plain": [
       "1"
      ]
     },
     "execution_count": 22,
     "metadata": {},
     "output_type": "execute_result"
    }
   ],
   "source": [
    "num_tables = len(list(client.list_tables(dataset)))\n",
    "num_tables"
   ]
  },
  {
   "cell_type": "markdown",
   "metadata": {},
   "source": [
    "### Ex. 2) Explore the table schema\n",
    "- How many columns in the `crime` table have `TIMESTAMP` data?"
   ]
  },
  {
   "cell_type": "code",
   "execution_count": 23,
   "metadata": {},
   "outputs": [
    {
     "name": "stdout",
     "output_type": "stream",
     "text": [
      "22\n"
     ]
    },
    {
     "data": {
      "text/plain": [
       "[SchemaField('unique_key', 'INTEGER', 'REQUIRED', None, (), None),\n",
       " SchemaField('case_number', 'STRING', 'NULLABLE', None, (), None),\n",
       " SchemaField('date', 'TIMESTAMP', 'NULLABLE', None, (), None),\n",
       " SchemaField('block', 'STRING', 'NULLABLE', None, (), None),\n",
       " SchemaField('iucr', 'STRING', 'NULLABLE', None, (), None),\n",
       " SchemaField('primary_type', 'STRING', 'NULLABLE', None, (), None),\n",
       " SchemaField('description', 'STRING', 'NULLABLE', None, (), None),\n",
       " SchemaField('location_description', 'STRING', 'NULLABLE', None, (), None),\n",
       " SchemaField('arrest', 'BOOLEAN', 'NULLABLE', None, (), None),\n",
       " SchemaField('domestic', 'BOOLEAN', 'NULLABLE', None, (), None),\n",
       " SchemaField('beat', 'INTEGER', 'NULLABLE', None, (), None),\n",
       " SchemaField('district', 'INTEGER', 'NULLABLE', None, (), None),\n",
       " SchemaField('ward', 'INTEGER', 'NULLABLE', None, (), None),\n",
       " SchemaField('community_area', 'INTEGER', 'NULLABLE', None, (), None),\n",
       " SchemaField('fbi_code', 'STRING', 'NULLABLE', None, (), None),\n",
       " SchemaField('x_coordinate', 'FLOAT', 'NULLABLE', None, (), None),\n",
       " SchemaField('y_coordinate', 'FLOAT', 'NULLABLE', None, (), None),\n",
       " SchemaField('year', 'INTEGER', 'NULLABLE', None, (), None),\n",
       " SchemaField('updated_on', 'TIMESTAMP', 'NULLABLE', None, (), None),\n",
       " SchemaField('latitude', 'FLOAT', 'NULLABLE', None, (), None),\n",
       " SchemaField('longitude', 'FLOAT', 'NULLABLE', None, (), None),\n",
       " SchemaField('location', 'STRING', 'NULLABLE', None, (), None)]"
      ]
     },
     "execution_count": 23,
     "metadata": {},
     "output_type": "execute_result"
    }
   ],
   "source": [
    "# Construct a reference to the \"crime\" table\n",
    "table_ref = dataset_ref.table(\"crime\")\n",
    "# API request - fetch the table\n",
    "table = client.get_table(table_ref)\n",
    "print(len(table.schema))\n",
    "table.schema"
   ]
  },
  {
   "cell_type": "code",
   "execution_count": 24,
   "metadata": {},
   "outputs": [],
   "source": [
    "num_timestamp_fields = 2"
   ]
  },
  {
   "cell_type": "markdown",
   "metadata": {},
   "source": [
    "### Ex. 3) Create a crime map\n",
    "- If you wanted to create a map with a dot at the location of each crime, what are the names of the two fields you likely need to pull out of the crime table to plot the crimes on a map?"
   ]
  },
  {
   "cell_type": "code",
   "execution_count": 25,
   "metadata": {},
   "outputs": [],
   "source": [
    "fields_for_plotting = ['latitude', 'longitude']"
   ]
  },
  {
   "cell_type": "markdown",
   "metadata": {},
   "source": [
    "Thinking about the question above, there are a few columns that appear to have geographic data. Look at a few values (with the list_rows() command) to see if you can determine their relationship. Two columns will still be hard to interpret. But it should be obvious how the location column relates to latitude and longitude."
   ]
  },
  {
   "cell_type": "code",
   "execution_count": 26,
   "metadata": {},
   "outputs": [
    {
     "name": "stderr",
     "output_type": "stream",
     "text": [
      "C:\\Users\\jm\\AppData\\Local\\Temp\\ipykernel_9232\\2662307764.py:1: UserWarning: Cannot use bqstorage_client if max_results is set, reverting to fetching data with the tabledata.list endpoint.\n",
      "  client.list_rows(table, max_results=5).to_dataframe()\n"
     ]
    },
    {
     "data": {
      "text/html": [
       "<div>\n",
       "<style scoped>\n",
       "    .dataframe tbody tr th:only-of-type {\n",
       "        vertical-align: middle;\n",
       "    }\n",
       "\n",
       "    .dataframe tbody tr th {\n",
       "        vertical-align: top;\n",
       "    }\n",
       "\n",
       "    .dataframe thead th {\n",
       "        text-align: right;\n",
       "    }\n",
       "</style>\n",
       "<table border=\"1\" class=\"dataframe\">\n",
       "  <thead>\n",
       "    <tr style=\"text-align: right;\">\n",
       "      <th></th>\n",
       "      <th>unique_key</th>\n",
       "      <th>case_number</th>\n",
       "      <th>date</th>\n",
       "      <th>block</th>\n",
       "      <th>iucr</th>\n",
       "      <th>primary_type</th>\n",
       "      <th>description</th>\n",
       "      <th>location_description</th>\n",
       "      <th>arrest</th>\n",
       "      <th>domestic</th>\n",
       "      <th>...</th>\n",
       "      <th>ward</th>\n",
       "      <th>community_area</th>\n",
       "      <th>fbi_code</th>\n",
       "      <th>x_coordinate</th>\n",
       "      <th>y_coordinate</th>\n",
       "      <th>year</th>\n",
       "      <th>updated_on</th>\n",
       "      <th>latitude</th>\n",
       "      <th>longitude</th>\n",
       "      <th>location</th>\n",
       "    </tr>\n",
       "  </thead>\n",
       "  <tbody>\n",
       "    <tr>\n",
       "      <th>0</th>\n",
       "      <td>26735</td>\n",
       "      <td>JF225985</td>\n",
       "      <td>2022-04-30 11:19:00+00:00</td>\n",
       "      <td>005XX E 106TH ST</td>\n",
       "      <td>0110</td>\n",
       "      <td>HOMICIDE</td>\n",
       "      <td>FIRST DEGREE MURDER</td>\n",
       "      <td>ALLEY</td>\n",
       "      <td>True</td>\n",
       "      <td>False</td>\n",
       "      <td>...</td>\n",
       "      <td>9.0</td>\n",
       "      <td>49.0</td>\n",
       "      <td>01A</td>\n",
       "      <td>1181917.0</td>\n",
       "      <td>1834793.0</td>\n",
       "      <td>2022</td>\n",
       "      <td>2022-09-18 04:45:51+00:00</td>\n",
       "      <td>41.701895</td>\n",
       "      <td>-87.609487</td>\n",
       "      <td>(41.701895341, -87.60948662)</td>\n",
       "    </tr>\n",
       "    <tr>\n",
       "      <th>1</th>\n",
       "      <td>10524241</td>\n",
       "      <td>HZ266809</td>\n",
       "      <td>2016-04-17 07:15:00+00:00</td>\n",
       "      <td>103XX S STATE ST</td>\n",
       "      <td>0263</td>\n",
       "      <td>CRIM SEXUAL ASSAULT</td>\n",
       "      <td>AGGRAVATED: KNIFE/CUT INSTR</td>\n",
       "      <td>STREET</td>\n",
       "      <td>False</td>\n",
       "      <td>False</td>\n",
       "      <td>...</td>\n",
       "      <td>34.0</td>\n",
       "      <td>49.0</td>\n",
       "      <td>02</td>\n",
       "      <td>1178071.0</td>\n",
       "      <td>1836598.0</td>\n",
       "      <td>2016</td>\n",
       "      <td>2018-02-10 03:50:01+00:00</td>\n",
       "      <td>41.706936</td>\n",
       "      <td>-87.623515</td>\n",
       "      <td>(41.706936355, -87.623514952)</td>\n",
       "    </tr>\n",
       "    <tr>\n",
       "      <th>2</th>\n",
       "      <td>5393782</td>\n",
       "      <td>HN234262</td>\n",
       "      <td>2007-03-18 06:00:00+00:00</td>\n",
       "      <td>003XX W 106TH ST</td>\n",
       "      <td>0265</td>\n",
       "      <td>CRIM SEXUAL ASSAULT</td>\n",
       "      <td>AGGRAVATED: OTHER</td>\n",
       "      <td>RESIDENCE</td>\n",
       "      <td>False</td>\n",
       "      <td>False</td>\n",
       "      <td>...</td>\n",
       "      <td>34.0</td>\n",
       "      <td>49.0</td>\n",
       "      <td>02</td>\n",
       "      <td>1175835.0</td>\n",
       "      <td>1834633.0</td>\n",
       "      <td>2007</td>\n",
       "      <td>2018-02-28 03:56:25+00:00</td>\n",
       "      <td>41.701594</td>\n",
       "      <td>-87.631762</td>\n",
       "      <td>(41.701594397, -87.63176174)</td>\n",
       "    </tr>\n",
       "    <tr>\n",
       "      <th>3</th>\n",
       "      <td>11297090</td>\n",
       "      <td>JB239539</td>\n",
       "      <td>2018-04-21 10:00:00+00:00</td>\n",
       "      <td>009XX E 104TH ST</td>\n",
       "      <td>0281</td>\n",
       "      <td>CRIM SEXUAL ASSAULT</td>\n",
       "      <td>NON-AGGRAVATED</td>\n",
       "      <td>APARTMENT</td>\n",
       "      <td>False</td>\n",
       "      <td>True</td>\n",
       "      <td>...</td>\n",
       "      <td>9.0</td>\n",
       "      <td>50.0</td>\n",
       "      <td>02</td>\n",
       "      <td>1184238.0</td>\n",
       "      <td>1836191.0</td>\n",
       "      <td>2018</td>\n",
       "      <td>2018-05-04 03:51:04+00:00</td>\n",
       "      <td>41.705678</td>\n",
       "      <td>-87.600944</td>\n",
       "      <td>(41.705677782, -87.600944364)</td>\n",
       "    </tr>\n",
       "    <tr>\n",
       "      <th>4</th>\n",
       "      <td>1895933</td>\n",
       "      <td>G749374</td>\n",
       "      <td>2001-12-15 05:48:42+00:00</td>\n",
       "      <td>009XX E 104 ST</td>\n",
       "      <td>0312</td>\n",
       "      <td>ROBBERY</td>\n",
       "      <td>ARMED:KNIFE/CUTTING INSTRUMENT</td>\n",
       "      <td>VEHICLE NON-COMMERCIAL</td>\n",
       "      <td>False</td>\n",
       "      <td>False</td>\n",
       "      <td>...</td>\n",
       "      <td>NaN</td>\n",
       "      <td>NaN</td>\n",
       "      <td>03</td>\n",
       "      <td>1184202.0</td>\n",
       "      <td>1836150.0</td>\n",
       "      <td>2001</td>\n",
       "      <td>2015-08-17 03:03:40+00:00</td>\n",
       "      <td>41.705566</td>\n",
       "      <td>-87.601077</td>\n",
       "      <td>(41.705566113, -87.601077468)</td>\n",
       "    </tr>\n",
       "  </tbody>\n",
       "</table>\n",
       "<p>5 rows × 22 columns</p>\n",
       "</div>"
      ],
      "text/plain": [
       "   unique_key case_number                      date             block  iucr  \\\n",
       "0       26735    JF225985 2022-04-30 11:19:00+00:00  005XX E 106TH ST  0110   \n",
       "1    10524241    HZ266809 2016-04-17 07:15:00+00:00  103XX S STATE ST  0263   \n",
       "2     5393782    HN234262 2007-03-18 06:00:00+00:00  003XX W 106TH ST  0265   \n",
       "3    11297090    JB239539 2018-04-21 10:00:00+00:00  009XX E 104TH ST  0281   \n",
       "4     1895933     G749374 2001-12-15 05:48:42+00:00    009XX E 104 ST  0312   \n",
       "\n",
       "          primary_type                     description  \\\n",
       "0             HOMICIDE             FIRST DEGREE MURDER   \n",
       "1  CRIM SEXUAL ASSAULT     AGGRAVATED: KNIFE/CUT INSTR   \n",
       "2  CRIM SEXUAL ASSAULT               AGGRAVATED: OTHER   \n",
       "3  CRIM SEXUAL ASSAULT                  NON-AGGRAVATED   \n",
       "4              ROBBERY  ARMED:KNIFE/CUTTING INSTRUMENT   \n",
       "\n",
       "     location_description  arrest  domestic  ...  ward  community_area  \\\n",
       "0                   ALLEY    True     False  ...   9.0            49.0   \n",
       "1                  STREET   False     False  ...  34.0            49.0   \n",
       "2               RESIDENCE   False     False  ...  34.0            49.0   \n",
       "3               APARTMENT   False      True  ...   9.0            50.0   \n",
       "4  VEHICLE NON-COMMERCIAL   False     False  ...   NaN             NaN   \n",
       "\n",
       "   fbi_code  x_coordinate y_coordinate  year                updated_on  \\\n",
       "0       01A     1181917.0    1834793.0  2022 2022-09-18 04:45:51+00:00   \n",
       "1        02     1178071.0    1836598.0  2016 2018-02-10 03:50:01+00:00   \n",
       "2        02     1175835.0    1834633.0  2007 2018-02-28 03:56:25+00:00   \n",
       "3        02     1184238.0    1836191.0  2018 2018-05-04 03:51:04+00:00   \n",
       "4        03     1184202.0    1836150.0  2001 2015-08-17 03:03:40+00:00   \n",
       "\n",
       "    latitude  longitude                       location  \n",
       "0  41.701895 -87.609487   (41.701895341, -87.60948662)  \n",
       "1  41.706936 -87.623515  (41.706936355, -87.623514952)  \n",
       "2  41.701594 -87.631762   (41.701594397, -87.63176174)  \n",
       "3  41.705678 -87.600944  (41.705677782, -87.600944364)  \n",
       "4  41.705566 -87.601077  (41.705566113, -87.601077468)  \n",
       "\n",
       "[5 rows x 22 columns]"
      ]
     },
     "execution_count": 26,
     "metadata": {},
     "output_type": "execute_result"
    }
   ],
   "source": [
    "client.list_rows(table, max_results=5).to_dataframe()"
   ]
  },
  {
   "cell_type": "code",
   "execution_count": null,
   "metadata": {},
   "outputs": [],
   "source": []
  }
 ],
 "metadata": {
  "kernelspec": {
   "display_name": "Python 3 (ipykernel)",
   "language": "python",
   "name": "python3"
  },
  "language_info": {
   "codemirror_mode": {
    "name": "ipython",
    "version": 3
   },
   "file_extension": ".py",
   "mimetype": "text/x-python",
   "name": "python",
   "nbconvert_exporter": "python",
   "pygments_lexer": "ipython3",
   "version": "3.10.11"
  }
 },
 "nbformat": 4,
 "nbformat_minor": 4
}
